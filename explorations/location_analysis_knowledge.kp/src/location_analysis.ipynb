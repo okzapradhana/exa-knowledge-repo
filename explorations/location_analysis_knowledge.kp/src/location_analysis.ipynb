{
 "cells": [
  {
   "cell_type": "raw",
   "metadata": {},
   "source": [
    "---\n",
    "title: Location Analysis on Compfest Data Science Academy \n",
    "authors:\n",
    "- Okza Pradhana\n",
    "- Faiz Al Hadiid\n",
    "- Reza\n",
    "tags:\n",
    "- academy\n",
    "- location\n",
    "- compfest\n",
    "created_at: 2019-06-29\n",
    "updated_at: 2020-07-03\n",
    "tldr: Doing analysis on Travelers location\n",
    "---"
   ]
  },
  {
   "cell_type": "code",
   "execution_count": null,
   "metadata": {},
   "outputs": [],
   "source": [
    "from pandas.compat import StringIO\n",
    "import pandas as pd"
   ]
  },
  {
   "cell_type": "code",
   "execution_count": null,
   "metadata": {},
   "outputs": [],
   "source": [
    "\n",
    "csv_string: str = open('catatan_lokasi.csv').read()\n",
    "csv_string = csv_string.replace('/19', '/2019')\n",
    "csv_string\n",
    "\n",
    "str_io = StringIO(csv_string)\n",
    "df = pandas.read_csv(str_io)\n",
    "df['tanggal'] = pandas.to_datetime(df['tanggal'], format = \"%d/%m/%Y\")\n",
    "df = df.sort_values(by=[\"id\", \"tanggal\"])\n",
    "df\n"
   ]
  },
  {
   "cell_type": "code",
   "execution_count": null,
   "metadata": {},
   "outputs": [],
   "source": [
    "id_before = -1\n",
    "start_loc = []\n",
    "end_loc = []\n",
    "\n",
    "for row in df.iterrows():\n",
    "    current_id = row[1]['id']\n",
    "    location = row[1]['lokasi_dominan']\n",
    "    \n",
    "    if (current_id != id_before):\n",
    "        start_loc.append(location)\n",
    "        end_loc.append(location)\n",
    "    else :\n",
    "        end_loc[-1] = location\n",
    "    id_before = current_id\n",
    "    \n"
   ]
  },
  {
   "cell_type": "code",
   "execution_count": null,
   "metadata": {},
   "outputs": [],
   "source": [
    "all([start_loc[i] == end_loc[i] for i in range(len(start_loc))])"
   ]
  },
  {
   "cell_type": "code",
   "execution_count": null,
   "metadata": {},
   "outputs": [],
   "source": []
  },
  {
   "cell_type": "code",
   "execution_count": null,
   "metadata": {},
   "outputs": [],
   "source": [
    "df.info()"
   ]
  },
  {
   "cell_type": "code",
   "execution_count": null,
   "metadata": {},
   "outputs": [],
   "source": [
    "df[df['tanggal'] == '2019-05-21']['lokasi_dominan'].value_counts()"
   ]
  },
  {
   "cell_type": "code",
   "execution_count": null,
   "metadata": {},
   "outputs": [],
   "source": [
    "df[df['id'] == 80]"
   ]
  },
  {
   "cell_type": "code",
   "execution_count": null,
   "metadata": {},
   "outputs": [],
   "source": [
    "data_join = pd.read_csv('data_join.csv')"
   ]
  },
  {
   "cell_type": "code",
   "execution_count": null,
   "metadata": {
    "scrolled": true
   },
   "outputs": [],
   "source": [
    "data_join"
   ]
  },
  {
   "cell_type": "code",
   "execution_count": null,
   "metadata": {
    "scrolled": true
   },
   "outputs": [],
   "source": [
    "data_join[data_join['tanggal'] == \"2019-06-05\"]"
   ]
  },
  {
   "cell_type": "code",
   "execution_count": null,
   "metadata": {},
   "outputs": [],
   "source": [
    "jabodetabek = 'Jakarta|Bogor|Depok|Tangerang|Bekasi'"
   ]
  },
  {
   "cell_type": "code",
   "execution_count": null,
   "metadata": {},
   "outputs": [],
   "source": [
    "hari_mudik = data_join[data_join['tanggal'] == \"2019-06-05\"]"
   ]
  },
  {
   "cell_type": "code",
   "execution_count": null,
   "metadata": {},
   "outputs": [],
   "source": [
    "yang_mudik = hari_mudik[~hari_mudik['lokasi_dominan'].str.contains(jabodetabek)]"
   ]
  },
  {
   "cell_type": "code",
   "execution_count": null,
   "metadata": {},
   "outputs": [],
   "source": [
    "yang_mudik[yang_mudik['tanggal'] == '2019-05-30']"
   ]
  },
  {
   "cell_type": "code",
   "execution_count": null,
   "metadata": {
    "scrolled": true
   },
   "outputs": [],
   "source": [
    "yang_mudik['divisi'].value_counts()"
   ]
  },
  {
   "cell_type": "code",
   "execution_count": null,
   "metadata": {},
   "outputs": [],
   "source": [
    "yang_mudik['divisi'].describe()"
   ]
  },
  {
   "cell_type": "code",
   "execution_count": null,
   "metadata": {},
   "outputs": [],
   "source": [
    "marketing = data_join[data_join['divisi'] == 'Customer Service']"
   ]
  },
  {
   "cell_type": "code",
   "execution_count": null,
   "metadata": {},
   "outputs": [],
   "source": [
    "marketing[marketing['tanggal'] == '2019-06-05'].describe()"
   ]
  },
  {
   "cell_type": "code",
   "execution_count": null,
   "metadata": {},
   "outputs": [],
   "source": [
    "tigapuluh_mei = data_join[data_join['tanggal'] == '2019-05-30']"
   ]
  },
  {
   "cell_type": "code",
   "execution_count": null,
   "metadata": {
    "scrolled": true
   },
   "outputs": [],
   "source": [
    "tigapuluh_mei[~tigapuluh_mei['lokasi_dominan'].str.contains(jabodetabek)]"
   ]
  },
  {
   "cell_type": "code",
   "execution_count": null,
   "metadata": {},
   "outputs": [],
   "source": [
    "tidak_mudik = hari_mudik[hari_mudik['lokasi_dominan'].str.contains(jabodetabek)]"
   ]
  },
  {
   "cell_type": "code",
   "execution_count": null,
   "metadata": {},
   "outputs": [],
   "source": [
    "tidak_mudik.describe()"
   ]
  },
  {
   "cell_type": "markdown",
   "metadata": {},
   "source": [
    "## Persentase Pemudik Paling Sedikit"
   ]
  },
  {
   "cell_type": "code",
   "execution_count": null,
   "metadata": {
    "scrolled": true
   },
   "outputs": [],
   "source": [
    "data_join[data_join['lokasi_dominan'].str.contains('Medan')]"
   ]
  },
  {
   "cell_type": "code",
   "execution_count": null,
   "metadata": {},
   "outputs": [],
   "source": [
    "#Yogya\n",
    "diy = \"Sleman|Yogyakarta|Bantul\"\n",
    "hari_mudik[hari_mudik['lokasi_dominan'].str.contains(diy)]"
   ]
  },
  {
   "cell_type": "code",
   "execution_count": null,
   "metadata": {},
   "outputs": [],
   "source": [
    "pulang = data_join[data_join['tanggal'] > '2019-06-05']"
   ]
  },
  {
   "cell_type": "code",
   "execution_count": null,
   "metadata": {
    "scrolled": true
   },
   "outputs": [],
   "source": [
    "pulang"
   ]
  },
  {
   "cell_type": "code",
   "execution_count": null,
   "metadata": {},
   "outputs": [],
   "source": [
    "pulang[pulang['lokasi_dominan'].str.contains(jabodetabek)].describe()"
   ]
  },
  {
   "cell_type": "code",
   "execution_count": null,
   "metadata": {},
   "outputs": [],
   "source": [
    "pulang[pulang['lokasi_dominan'].str.contains(jabodetabek)]['tanggal'].value_counts()"
   ]
  },
  {
   "cell_type": "code",
   "execution_count": null,
   "metadata": {},
   "outputs": [],
   "source": [
    "orang_mudik = data_join[data_join['tanggal'] < '2019-06-05']"
   ]
  },
  {
   "cell_type": "code",
   "execution_count": null,
   "metadata": {},
   "outputs": [],
   "source": [
    "orang_mudik[~orang_mudik['lokasi_dominan'].str.contains(jabodetabek)]['tanggal'].value_counts()"
   ]
  },
  {
   "cell_type": "code",
   "execution_count": null,
   "metadata": {},
   "outputs": [],
   "source": []
  }
 ],
 "metadata": {
  "kernelspec": {
   "display_name": "Python 3",
   "language": "python",
   "name": "python3"
  },
  "language_info": {
   "codemirror_mode": {
    "name": "ipython",
    "version": 3
   },
   "file_extension": ".py",
   "mimetype": "text/x-python",
   "name": "python",
   "nbconvert_exporter": "python",
   "pygments_lexer": "ipython3",
   "version": "3.7.6"
  }
 },
 "nbformat": 4,
 "nbformat_minor": 2
}